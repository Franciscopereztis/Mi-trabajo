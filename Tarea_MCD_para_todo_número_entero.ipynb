{
  "nbformat": 4,
  "nbformat_minor": 0,
  "metadata": {
    "colab": {
      "provenance": [],
      "authorship_tag": "ABX9TyN2fzbmW9jOnK0bRfM4TuA5",
      "include_colab_link": true
    },
    "kernelspec": {
      "name": "python3",
      "display_name": "Python 3"
    },
    "language_info": {
      "name": "python"
    }
  },
  "cells": [
    {
      "cell_type": "markdown",
      "metadata": {
        "id": "view-in-github",
        "colab_type": "text"
      },
      "source": [
        "<a href=\"https://colab.research.google.com/github/Franciscopereztis/Mi-trabajo/blob/main/Tarea_MCD_para_todo_n%C3%BAmero_entero.ipynb\" target=\"_parent\"><img src=\"https://colab.research.google.com/assets/colab-badge.svg\" alt=\"Open In Colab\"/></a>"
      ]
    },
    {
      "cell_type": "markdown",
      "source": [
        "ACTIVIDAD: Extienda el codigo anterior para todo par de enteros distintos de cero"
      ],
      "metadata": {
        "id": "lpLsrGci7ya-"
      }
    },
    {
      "cell_type": "code",
      "source": [
        "import math\n",
        "\n",
        "a = int(input(\"Dame el primer entero: \"))\n",
        "b = int(input(\"Dame el segundo entero: \"))\n",
        "\n",
        "#Primero aplico el algoritmo cuando los dos números son negatovos o\n",
        "#alguno es negativo pero a<b\n",
        "# En la segunda parte se aplia a los demas números\n",
        "if (a<0 and b<0) or (a<0 or b<0) and (a>b)  :\n",
        "  q = math.ceil(a/b)   #Así escribo la función techo\n",
        "  r = a - b*q\n",
        "while r != 0 :\n",
        "  a = b\n",
        "  b = r\n",
        "  print(a, b)\n",
        "  q = a//b\n",
        "  r = a - b*q\n",
        "  print(\"El máximo común divisor es: \", b)\n",
        "\n",
        "else:\n",
        "  q = a//b\n",
        "  r = a - b*q\n",
        "while r != 0 :\n",
        "  a = b\n",
        "  b = r\n",
        "  print(a, b)\n",
        "  q = a//b\n",
        "  r = a - b*q\n",
        "print(\"El máximo común divisor es: \", b)"
      ],
      "metadata": {
        "colab": {
          "base_uri": "https://localhost:8080/"
        },
        "id": "ew_kltWA--Mu",
        "outputId": "cee90390-0ce9-40cf-cc92-f428afa1f497"
      },
      "execution_count": 76,
      "outputs": [
        {
          "output_type": "stream",
          "name": "stdout",
          "text": [
            "Dame el primer entero: 54\n",
            "Dame el segundo entero: -30\n",
            "-30 24\n",
            "El máximo común divisor es:  24\n",
            "24 18\n",
            "El máximo común divisor es:  18\n",
            "18 6\n",
            "El máximo común divisor es:  6\n",
            "El máximo común divisor es:  6\n"
          ]
        }
      ]
    }
  ]
}