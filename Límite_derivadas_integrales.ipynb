{
  "nbformat": 4,
  "nbformat_minor": 0,
  "metadata": {
    "colab": {
      "provenance": [],
      "authorship_tag": "ABX9TyP1koEVIWyfVPLae9v1Smad",
      "include_colab_link": true
    },
    "kernelspec": {
      "name": "python3",
      "display_name": "Python 3"
    },
    "language_info": {
      "name": "python"
    }
  },
  "cells": [
    {
      "cell_type": "markdown",
      "metadata": {
        "id": "view-in-github",
        "colab_type": "text"
      },
      "source": [
        "<a href=\"https://colab.research.google.com/github/Franciscopereztis/Mi-trabajo/blob/main/L%C3%ADmite_derivadas_integrales.ipynb\" target=\"_parent\"><img src=\"https://colab.research.google.com/assets/colab-badge.svg\" alt=\"Open In Colab\"/></a>"
      ]
    },
    {
      "cell_type": "markdown",
      "source": [
        "límites integrales con sympy\n",
        "\n",
        "Obtener el límite de una función en Python"
      ],
      "metadata": {
        "id": "xi_BSmdPVwIZ"
      }
    },
    {
      "cell_type": "code",
      "execution_count": 7,
      "metadata": {
        "colab": {
          "base_uri": "https://localhost:8080/",
          "height": 53
        },
        "id": "m8AKqIZDUVGa",
        "outputId": "8df81112-b9ac-410c-f045-3b11a4f38ffa"
      },
      "outputs": [
        {
          "output_type": "execute_result",
          "data": {
            "text/plain": [
              "sin(4)/4"
            ],
            "text/latex": "$\\displaystyle \\frac{\\sin{\\left(4 \\right)}}{4}$"
          },
          "metadata": {},
          "execution_count": 7
        }
      ],
      "source": [
        "from sympy import symbols, limit, sin\n",
        "x = symbols(\"x\")\n",
        "limit(sin(x)/x, x, 4) #el ultimo argumento es a donde va a tender el límite"
      ]
    },
    {
      "cell_type": "code",
      "source": [
        "from typing import SupportsIndex\n",
        "from sympy import symbols, limit, sin, pi\n",
        "x = symbols(\"x\")\n",
        "#pi=math.pi\n",
        "fx=1-2*sin(x)\n",
        "gx=pi-6*x\n",
        "limit(fx/gx, x, pi/6)"
      ],
      "metadata": {
        "colab": {
          "base_uri": "https://localhost:8080/",
          "height": 55
        },
        "id": "pMqLf65UXHw3",
        "outputId": "7e767751-4e0a-4b8b-a64a-bbb02de886a6"
      },
      "execution_count": 29,
      "outputs": [
        {
          "output_type": "execute_result",
          "data": {
            "text/plain": [
              "sqrt(3)/6"
            ],
            "text/latex": "$\\displaystyle \\frac{\\sqrt{3}}{6}$"
          },
          "metadata": {},
          "execution_count": 29
        }
      ]
    },
    {
      "cell_type": "code",
      "source": [
        "from sympy import symbols, diff, sin # diff es para derivar\n",
        "x = symbols(\"x\")\n",
        "dx=diff(sin(x)/x,x)\n",
        "dx.subs(x,x).evalf() #sin el evalf f() sale en terminos de pi, pero con el eval f()sale en decimal\n",
        "#El segundo termino es en donde vamos a sustituir"
      ],
      "metadata": {
        "colab": {
          "base_uri": "https://localhost:8080/",
          "height": 53
        },
        "id": "3kghy5g8Y99Q",
        "outputId": "e80300ee-b0ed-497a-abe7-14c2d6bc24c6"
      },
      "execution_count": 43,
      "outputs": [
        {
          "output_type": "execute_result",
          "data": {
            "text/plain": [
              "cos(x)/x - sin(x)/x**2"
            ],
            "text/latex": "$\\displaystyle \\frac{\\cos{\\left(x \\right)}}{x} - \\frac{\\sin{\\left(x \\right)}}{x^{2}}$"
          },
          "metadata": {},
          "execution_count": 43
        }
      ]
    },
    {
      "cell_type": "code",
      "source": [
        "from sympy import symbols, diff, ln, exp # diff es para derivar\n",
        "x = symbols(\"x\")\n",
        "fx=ln((4**(7*x**2))/(5*exp(3*x**5)))\n",
        "diff(fx,x)\n",
        "dx.subs(x,1.1).evalf() #sin el evalf f() sale en terminos de pi, pero con el eval f()sale en decimal"
      ],
      "metadata": {
        "colab": {
          "base_uri": "https://localhost:8080/",
          "height": 37
        },
        "id": "mFAnoyN3ans_",
        "outputId": "fe5b54ac-1249-41e6-9ed4-0a0b13743b96"
      },
      "execution_count": 61,
      "outputs": [
        {
          "output_type": "execute_result",
          "data": {
            "text/plain": [
              "23.7796818181818"
            ],
            "text/latex": "$\\displaystyle 23.7796818181818$"
          },
          "metadata": {},
          "execution_count": 61
        }
      ]
    },
    {
      "cell_type": "markdown",
      "source": [
        "Tarea ver en donde el argunto es igual a 1\n"
      ],
      "metadata": {
        "id": "_r4hfaxVfpM4"
      }
    },
    {
      "cell_type": "code",
      "source": [
        "from typing import SupportsIndex\n",
        "from sympy import symbols, limit, sin, pi\n",
        "x = symbols(\"x\")\n",
        "#pi=math.pi\n",
        "fx=1-2*sin(x)\n",
        "gx=pi-6*x\n",
        "limit(1-2*sin(x)/pi-6*x, x, pi/6).evalf()"
      ],
      "metadata": {
        "colab": {
          "base_uri": "https://localhost:8080/",
          "height": 37
        },
        "id": "DClRxMMrZdtP",
        "outputId": "d94f1ad4-a3db-4133-f007-102698bb3c36"
      },
      "execution_count": 52,
      "outputs": [
        {
          "output_type": "execute_result",
          "data": {
            "text/plain": [
              "-2.45990253977358"
            ],
            "text/latex": "$\\displaystyle -2.45990253977358$"
          },
          "metadata": {},
          "execution_count": 52
        }
      ]
    },
    {
      "cell_type": "markdown",
      "source": [
        "integrales"
      ],
      "metadata": {
        "id": "4gvxd0Y_hHUk"
      }
    },
    {
      "cell_type": "code",
      "source": [
        "from sympy import symbols, integrate, sin, exp, ln\n",
        "x = symbols(\"x\")\n",
        "integrate(sin(x), x)"
      ],
      "metadata": {
        "colab": {
          "base_uri": "https://localhost:8080/",
          "height": 38
        },
        "id": "NuQ46vSNhJvl",
        "outputId": "ea70a5f2-2a0d-4f09-dd79-17a28851babd"
      },
      "execution_count": 62,
      "outputs": [
        {
          "output_type": "execute_result",
          "data": {
            "text/plain": [
              "-cos(x)"
            ],
            "text/latex": "$\\displaystyle - \\cos{\\left(x \\right)}$"
          },
          "metadata": {},
          "execution_count": 62
        }
      ]
    },
    {
      "cell_type": "markdown",
      "source": [
        "integral definida"
      ],
      "metadata": {
        "id": "r9F8xfrgjkQl"
      }
    },
    {
      "cell_type": "code",
      "source": [
        "from sympy import symbols, integrate, sin, exp, ln\n",
        "x = symbols(\"x\")\n",
        "integrate(sin(x), x, (x,-1,1))"
      ],
      "metadata": {
        "colab": {
          "base_uri": "https://localhost:8080/",
          "height": 37
        },
        "id": "7XNnsBnijlyG",
        "outputId": "ac311425-6232-48dd-f764-d222d331a2b3"
      },
      "execution_count": 72,
      "outputs": [
        {
          "output_type": "execute_result",
          "data": {
            "text/plain": [
              "-sin(1)"
            ],
            "text/latex": "$\\displaystyle - \\sin{\\left(1 \\right)}$"
          },
          "metadata": {},
          "execution_count": 72
        }
      ]
    },
    {
      "cell_type": "code",
      "source": [
        "from sympy import symbols, integrate, sin, exp, ln\n",
        "from sympy.plotting import plot\n",
        "\n",
        "x = symbols(\"x\")\n",
        "print (integrate(sin(x), x, (x,-1,1)))\n",
        "plot (sin(x), (x,-1,1))"
      ],
      "metadata": {
        "colab": {
          "base_uri": "https://localhost:8080/",
          "height": 522
        },
        "id": "MGhKgxJlj19O",
        "outputId": "bb95a36d-48c2-47b9-be4f-70407c3b953f"
      },
      "execution_count": 67,
      "outputs": [
        {
          "output_type": "stream",
          "name": "stdout",
          "text": [
            "-2*sin(1)\n"
          ]
        },
        {
          "output_type": "display_data",
          "data": {
            "text/plain": [
              "<Figure size 640x480 with 1 Axes>"
            ],
            "image/png": "[encoded data removed]"
          },
          "metadata": {}
        },
        {
          "output_type": "execute_result",
          "data": {
            "text/plain": [
              "<sympy.plotting.plot.Plot at 0x7bc675982470>"
            ]
          },
          "metadata": {},
          "execution_count": 67
        }
      ]
    },
    {
      "cell_type": "code",
      "source": [
        "from sympy import symbols, integrate, sin, exp, ln, sqrt\n",
        "x = symbols(\"x\")\n",
        "integrate((1-x)/sqrt(2-x), x)"
      ],
      "metadata": {
        "colab": {
          "base_uri": "https://localhost:8080/",
          "height": 69
        },
        "id": "aSFbYK1ckjWX",
        "outputId": "13c0600f-695f-4b37-fd25-47c4254a14bb"
      },
      "execution_count": 68,
      "outputs": [
        {
          "output_type": "execute_result",
          "data": {
            "text/plain": [
              "Piecewise((2*I*sqrt(x - 2)*(x - 1)/3 + 4*I*sqrt(x - 2)/3, Abs(x - 1) > 1), (2*sqrt(2 - x)*(x - 1)/3 + 4*sqrt(2 - x)/3, True))"
            ],
            "text/latex": "$\\displaystyle \\begin{cases} \\frac{2 i \\sqrt{x - 2} \\left(x - 1\\right)}{3} + \\frac{4 i \\sqrt{x - 2}}{3} & \\text{for}\\: \\left|{x - 1}\\right| > 1 \\\\\\frac{2 \\sqrt{2 - x} \\left(x - 1\\right)}{3} + \\frac{4 \\sqrt{2 - x}}{3} & \\text{otherwise} \\end{cases}$"
          },
          "metadata": {},
          "execution_count": 68
        }
      ]
    },
    {
      "cell_type": "code",
      "source": [
        "from sympy import symbols, integrate, sin, exp, ln\n",
        "from sympy.plotting import plot\n",
        "w= symbols(\"w\")\n",
        "print (integrate((1-x)/sqrt(2-x), x, (x,-1,1)))\n",
        "plot ((1-x)/sqrt(2-x), (x,-1,1))"
      ],
      "metadata": {
        "colab": {
          "base_uri": "https://localhost:8080/",
          "height": 519
        },
        "id": "rMF4o4QTlgVV",
        "outputId": "dd5dd791-4c01-43ee-ad01-7494823f6747"
      },
      "execution_count": 73,
      "outputs": [
        {
          "output_type": "stream",
          "name": "stdout",
          "text": [
            "-8*sqrt(3)/5 - 16/15 + 16*sqrt(2)/5\n"
          ]
        },
        {
          "output_type": "display_data",
          "data": {
            "text/plain": [
              "<Figure size 640x480 with 1 Axes>"
            ],
            "image/png": "[encoded data removed]"
          },
          "metadata": {}
        },
        {
          "output_type": "execute_result",
          "data": {
            "text/plain": [
              "<sympy.plotting.plot.Plot at 0x7bc675c03a30>"
            ]
          },
          "metadata": {},
          "execution_count": 73
        }
      ]
    },
    {
      "cell_type": "code",
      "source": [
        "import numpy as np\n",
        "import matplotlib.pyplot as pl\n",
        "\n",
        "paso = .01\n",
        "p = np.arange(-1, 1, paso)\n",
        "\n",
        "ft = np.sin(np.sqrt(3)*p)*np.tan(p)\n",
        "\n",
        "pl.plot(p, ft, \"r\")\n",
        "pl.fill_between(p,ft,color=(1,.616,0,.459))\n",
        "pl.title(\"sin[3^(1/2)t]tan[t]\")\n",
        "pl.show ()\n",
        "\n",
        "AreaFt = np.sum(paso*ft)\n",
        "\n",
        "print(\"El área bajo la curva es:\" , AreaFt)"
      ],
      "metadata": {
        "id": "Et1dZ5gPpk7l"
      },
      "execution_count": null,
      "outputs": []
    },
    {
      "cell_type": "markdown",
      "source": [
        "versión con ciclos"
      ],
      "metadata": {
        "id": "CxqTKxQErzDE"
      }
    },
    {
      "cell_type": "code",
      "source": [
        "import math\n",
        "\n",
        "fx=[]\n",
        "area2=0\n",
        "def fun2(x):\n",
        "  return np.sin(np.sqrt(3)*x)*np.tan(x)\n",
        "for h in p:\n",
        "  y = fun2(h)\n",
        "  fx.append(y)\n",
        "  area2 += paso*y\n",
        "\n",
        "print(\"El área bajo la curva con cilcos es:\" , area2)\n",
        "\n",
        "fig, ax = plt.subplots()\n",
        "ax.plot(p, ft)\n",
        "ax.fill_between(p,ft,color=(1,.984,0,.459))"
      ],
      "metadata": {
        "id": "cV_AXzVarnBf"
      },
      "execution_count": null,
      "outputs": []
    }
  ]
}