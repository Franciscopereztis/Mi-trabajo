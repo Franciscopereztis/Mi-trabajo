{
  "nbformat": 4,
  "nbformat_minor": 0,
  "metadata": {
    "colab": {
      "provenance": [],
      "authorship_tag": "ABX9TyPvZzZDUq+mv5Jxji92N8xB",
      "include_colab_link": true
    },
    "kernelspec": {
      "name": "python3",
      "display_name": "Python 3"
    },
    "language_info": {
      "name": "python"
    }
  },
  "cells": [
    {
      "cell_type": "markdown",
      "metadata": {
        "id": "view-in-github",
        "colab_type": "text"
      },
      "source": [
        "<a href=\"https://colab.research.google.com/github/Franciscopereztis/Mi-trabajo/blob/main/Ejercicio_sistema_de_ecuaciones.ipynb\" target=\"_parent\"><img src=\"https://colab.research.google.com/assets/colab-badge.svg\" alt=\"Open In Colab\"/></a>"
      ]
    },
    {
      "cell_type": "markdown",
      "source": [
        "2x+3y+4z=3\n",
        "\n",
        "2x+6y+8z=5\n",
        "\n",
        "4x+9y-4z=4\n"
      ],
      "metadata": {
        "id": "piSEfoRjpocH"
      }
    },
    {
      "cell_type": "code",
      "source": [
        "import numpy as np # se usan abrviaturas como np\n",
        "from scipy.linalg import solve"
      ],
      "metadata": {
        "id": "2WBuaNkPqG5F"
      },
      "execution_count": null,
      "outputs": []
    },
    {
      "cell_type": "code",
      "source": [
        "a = np.array([[2,3,4],[2,6,8],[4,9,-4]]) # la matriz se escribe por filas y con el comando np.array\n",
        "b = np.array([3,5,4])\n",
        "x = solve(a,b)\n",
        "print(\"La solución del sistema es: \" , x)"
      ],
      "metadata": {
        "colab": {
          "base_uri": "https://localhost:8080/"
        },
        "id": "s8IM_ZWhqepF",
        "outputId": "3be214c8-65b4-4d62-948a-f1e29765968c"
      },
      "execution_count": null,
      "outputs": [
        {
          "output_type": "stream",
          "name": "stdout",
          "text": [
            "La solución del sistema es:  [0.5        0.33333333 0.25      ]\n"
          ]
        }
      ]
    },
    {
      "cell_type": "code",
      "source": [
        "import numpy as np #otra forma de escribir\n",
        "a = ([[2,3,4],[2,6,8],[4,9,-4]]) # la matriz se escribe por filas y con el comando np.array\n",
        "b = ([3,5,4])\n",
        "x = np.linalg.solve(a,b)\n",
        "print(\"La solución del sistema es: \" , x)"
      ],
      "metadata": {
        "colab": {
          "base_uri": "https://localhost:8080/"
        },
        "id": "fpWpjCnnjqtw",
        "outputId": "2c6191d6-6423-4a7d-f152-8a5e47deee73"
      },
      "execution_count": null,
      "outputs": [
        {
          "output_type": "stream",
          "name": "stdout",
          "text": [
            "La solución del sistema es:  [0.5        0.33333333 0.25      ]\n"
          ]
        }
      ]
    },
    {
      "cell_type": "code",
      "source": [
        "from scipy.linalg import solve #otra forma\n",
        "a2 = ([[2,3,4],[2,6,8],[4,9,-4]]) # la matriz se escribe por filas y con el comando np.array\n",
        "b2 = ([3,5,4])\n",
        "x = solve(a2,b2)\n",
        "print(\"La solución del sistema es: \" , x)\n"
      ],
      "metadata": {
        "colab": {
          "base_uri": "https://localhost:8080/"
        },
        "id": "5aFHMXt-kf6n",
        "outputId": "51e9e9c8-b105-4f4a-8240-488e360fc760"
      },
      "execution_count": null,
      "outputs": [
        {
          "output_type": "stream",
          "name": "stdout",
          "text": [
            "La solución del sistema es:  [0.5        0.33333333 0.25      ]\n"
          ]
        }
      ]
    },
    {
      "cell_type": "code",
      "source": [
        "from sympy import * #  * es que importe todo\n",
        "\n",
        "# este metodo me da las respuestas en fracción  pero debemos de escribir las ecuaciones igualadas a cero\n",
        "\n",
        "x,y,z= symbols(\"x y z \")\n",
        "\n",
        "linsolve ([2*x+3*y+4*z-3, 2*x+6*y+8*z-5, 4*x+9*y-4*z-4],[x,y,z])"
      ],
      "metadata": {
        "colab": {
          "base_uri": "https://localhost:8080/",
          "height": 58
        },
        "id": "4liAOHiskz0o",
        "outputId": "72759459-d6dc-422c-a00d-a9b1c1529037"
      },
      "execution_count": null,
      "outputs": [
        {
          "output_type": "execute_result",
          "data": {
            "text/plain": [
              "{(1/2, 1/3, 1/4)}"
            ],
            "text/latex": "$\\displaystyle \\left\\{\\left( \\frac{1}{2}, \\  \\frac{1}{3}, \\  \\frac{1}{4}\\right)\\right\\}$"
          },
          "metadata": {},
          "execution_count": 4
        }
      ]
    },
    {
      "cell_type": "code",
      "source": [
        "from sympy import * #  * es que importe todo\n",
        "\n",
        "# este metodo me da las respuestas en fracción  pero debemos de escribir las ecuaciones igualadas a cero\n",
        "\n",
        "x,y,z= symbols(\"x y z \")\n",
        "\n",
        "linsolve ([x+y+z-72000, x-y-8500, 3*x+3*y-13*z],[x,y,z])"
      ],
      "metadata": {
        "colab": {
          "base_uri": "https://localhost:8080/",
          "height": 37
        },
        "id": "T4WAQtUanj-n",
        "outputId": "88519063-e36f-4d99-898e-095e462e218d"
      },
      "execution_count": null,
      "outputs": [
        {
          "output_type": "execute_result",
          "data": {
            "text/plain": [
              "{(33500, 25000, 13500)}"
            ],
            "text/latex": "$\\displaystyle \\left\\{\\left( 33500, \\  25000, \\  13500\\right)\\right\\}$"
          },
          "metadata": {},
          "execution_count": 5
        }
      ]
    },
    {
      "cell_type": "markdown",
      "source": [
        "Otra forma de colocar la respuesta"
      ],
      "metadata": {
        "id": "GxrfCzbIHeN2"
      }
    },
    {
      "cell_type": "code",
      "source": [
        "\n",
        "from sympy import linsolve, symbols\n",
        "\n",
        "p, a, o = symbols('p a o')\n",
        "aficionado = {p : 'pumas', a: 'américa', o : 'otro equipo'} # esto es un diccionario\n",
        "\n",
        "var =[p, a, o]\n",
        "sol = linsolve([p + a + o - 72000, p - a + 0*o - 8500, 3*p + 3*a - 13*o + 0],\n",
        "         var)\n",
        "\n",
        "print(type(sol)) # Me dice que tipo de solución es\n",
        "\n",
        "i=0\n",
        "for v in sol: # ve tomando cada elemento en sol y ve recorriendo\n",
        "    for y in v:  # va recorriendo los diferentes valores\n",
        "        print(f'Los aficionados de {aficionado[var[i]]} son {y}')\n",
        "        i+=1   # es abrebiatura de i=i+1"
      ],
      "metadata": {
        "colab": {
          "base_uri": "https://localhost:8080/"
        },
        "id": "dwzWsqRCGfAH",
        "outputId": "4db0ec6f-9680-49a9-b377-d0732e1c7940"
      },
      "execution_count": null,
      "outputs": [
        {
          "output_type": "stream",
          "name": "stdout",
          "text": [
            "<class 'sympy.sets.sets.FiniteSet'>\n",
            "Los aficionados de pumas son 33500\n",
            "Los aficionados de américa son 25000\n",
            "Los aficionados de otro equipo son 13500\n"
          ]
        }
      ]
    },
    {
      "cell_type": "code",
      "source": [],
      "metadata": {
        "id": "3A4M82b6Ala3"
      },
      "execution_count": null,
      "outputs": []
    },
    {
      "cell_type": "code",
      "source": [
        "from sympy import * #  * es que importe todo\n",
        "\n",
        "# este metodo me da las respuestas en fracción  pero debemos de escribir las ecuaciones igualadas a cero\n",
        "\n",
        "x,y,z= symbols(\"x y z \")\n",
        "\n",
        "linsolve ([x+y+z-72000, x-y-8500, 3*x+3*y-13*z],[x,y,z])"
      ],
      "metadata": {
        "id": "4hIZFG_lq9tu"
      },
      "execution_count": null,
      "outputs": []
    },
    {
      "cell_type": "code",
      "source": [
        "a = np.array([[2,3,4],[2,6,8],[4,9,-4]]) # la matriz se escribe por filas y con el comando np.array\n",
        "b = np.array([3,5,4])\n",
        "x = solve(a,b)\n",
        "print(\"La solución del sistema es: \" , x)"
      ],
      "metadata": {
        "id": "vZIUi79BszWB",
        "colab": {
          "base_uri": "https://localhost:8080/",
          "height": 193
        },
        "outputId": "145f6b44-bd0e-467d-8cb7-0cfbf7f67574"
      },
      "execution_count": null,
      "outputs": [
        {
          "output_type": "error",
          "ename": "NameError",
          "evalue": "name 'solve' is not defined",
          "traceback": [
            "\u001b[0;31m---------------------------------------------------------------------------\u001b[0m",
            "\u001b[0;31mNameError\u001b[0m                                 Traceback (most recent call last)",
            "\u001b[0;32m<ipython-input-2-b00a449f2f75>\u001b[0m in \u001b[0;36m<cell line: 3>\u001b[0;34m()\u001b[0m\n\u001b[1;32m      1\u001b[0m \u001b[0ma\u001b[0m \u001b[0;34m=\u001b[0m \u001b[0mnp\u001b[0m\u001b[0;34m.\u001b[0m\u001b[0marray\u001b[0m\u001b[0;34m(\u001b[0m\u001b[0;34m[\u001b[0m\u001b[0;34m[\u001b[0m\u001b[0;36m2\u001b[0m\u001b[0;34m,\u001b[0m\u001b[0;36m3\u001b[0m\u001b[0;34m,\u001b[0m\u001b[0;36m4\u001b[0m\u001b[0;34m]\u001b[0m\u001b[0;34m,\u001b[0m\u001b[0;34m[\u001b[0m\u001b[0;36m2\u001b[0m\u001b[0;34m,\u001b[0m\u001b[0;36m6\u001b[0m\u001b[0;34m,\u001b[0m\u001b[0;36m8\u001b[0m\u001b[0;34m]\u001b[0m\u001b[0;34m,\u001b[0m\u001b[0;34m[\u001b[0m\u001b[0;36m4\u001b[0m\u001b[0;34m,\u001b[0m\u001b[0;36m9\u001b[0m\u001b[0;34m,\u001b[0m\u001b[0;34m-\u001b[0m\u001b[0;36m4\u001b[0m\u001b[0;34m]\u001b[0m\u001b[0;34m]\u001b[0m\u001b[0;34m)\u001b[0m \u001b[0;31m# la matriz se escribe por filas y con el comando np.array\u001b[0m\u001b[0;34m\u001b[0m\u001b[0;34m\u001b[0m\u001b[0m\n\u001b[1;32m      2\u001b[0m \u001b[0mb\u001b[0m \u001b[0;34m=\u001b[0m \u001b[0mnp\u001b[0m\u001b[0;34m.\u001b[0m\u001b[0marray\u001b[0m\u001b[0;34m(\u001b[0m\u001b[0;34m[\u001b[0m\u001b[0;36m3\u001b[0m\u001b[0;34m,\u001b[0m\u001b[0;36m5\u001b[0m\u001b[0;34m,\u001b[0m\u001b[0;36m4\u001b[0m\u001b[0;34m]\u001b[0m\u001b[0;34m)\u001b[0m\u001b[0;34m\u001b[0m\u001b[0;34m\u001b[0m\u001b[0m\n\u001b[0;32m----> 3\u001b[0;31m \u001b[0mx\u001b[0m \u001b[0;34m=\u001b[0m \u001b[0msolve\u001b[0m\u001b[0;34m(\u001b[0m\u001b[0ma\u001b[0m\u001b[0;34m,\u001b[0m\u001b[0mb\u001b[0m\u001b[0;34m)\u001b[0m\u001b[0;34m\u001b[0m\u001b[0;34m\u001b[0m\u001b[0m\n\u001b[0m\u001b[1;32m      4\u001b[0m \u001b[0mprint\u001b[0m\u001b[0;34m(\u001b[0m\u001b[0;34m\"La solución del sistema es: \"\u001b[0m \u001b[0;34m,\u001b[0m \u001b[0mx\u001b[0m\u001b[0;34m)\u001b[0m\u001b[0;34m\u001b[0m\u001b[0;34m\u001b[0m\u001b[0m\n",
            "\u001b[0;31mNameError\u001b[0m: name 'solve' is not defined"
          ]
        }
      ]
    },
    {
      "cell_type": "code",
      "source": [
        "import math  # resuelve para un valor\n",
        "import numpy   # deja el manejo vectoriAL sirve para calculo vectorial\n",
        "import sympy   # da los resultados con raices"
      ],
      "metadata": {
        "id": "EamZEqMPw-fE"
      },
      "execution_count": null,
      "outputs": []
    },
    {
      "cell_type": "code",
      "source": [
        "print(math.sin(math.pi/3))\n",
        "\n"
      ],
      "metadata": {
        "colab": {
          "base_uri": "https://localhost:8080/"
        },
        "id": "9lryD0IZxGaD",
        "outputId": "3a09865e-9352-4bd5-c9e7-82104b471216"
      },
      "execution_count": null,
      "outputs": [
        {
          "output_type": "stream",
          "name": "stdout",
          "text": [
            "0.8660254037844386\n"
          ]
        }
      ]
    },
    {
      "cell_type": "code",
      "source": [
        "print(numpy.sin(numpy.pi/3))"
      ],
      "metadata": {
        "colab": {
          "base_uri": "https://localhost:8080/"
        },
        "id": "Reb8z1jXxkhM",
        "outputId": "ad05dbae-55f1-4245-efce-b74d3bc4f8ec"
      },
      "execution_count": null,
      "outputs": [
        {
          "output_type": "stream",
          "name": "stdout",
          "text": [
            "0.8660254037844386\n"
          ]
        }
      ]
    },
    {
      "cell_type": "code",
      "source": [
        "sympy.sin(sympy.pi/3)"
      ],
      "metadata": {
        "colab": {
          "base_uri": "https://localhost:8080/",
          "height": 55
        },
        "id": "fr7d74ImxqBD",
        "outputId": "eb56a23c-21ef-4b34-df23-8240db5ea4b0"
      },
      "execution_count": null,
      "outputs": [
        {
          "output_type": "execute_result",
          "data": {
            "text/plain": [
              "sqrt(3)/2"
            ],
            "text/latex": "$\\displaystyle \\frac{\\sqrt{3}}{2}$"
          },
          "metadata": {},
          "execution_count": 11
        }
      ]
    }
  ]
}