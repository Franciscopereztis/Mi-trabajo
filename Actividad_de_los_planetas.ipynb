{
  "nbformat": 4,
  "nbformat_minor": 0,
  "metadata": {
    "colab": {
      "provenance": [],
      "authorship_tag": "ABX9TyO5lZvp2XU2HB94DMwqdPH+",
      "include_colab_link": true
    },
    "kernelspec": {
      "name": "python3",
      "display_name": "Python 3"
    },
    "language_info": {
      "name": "python"
    }
  },
  "cells": [
    {
      "cell_type": "markdown",
      "metadata": {
        "id": "view-in-github",
        "colab_type": "text"
      },
      "source": [
        "<a href=\"https://colab.research.google.com/github/Franciscopereztis/Mi-trabajo/blob/main/Actividad_de_los_planetas.ipynb\" target=\"_parent\"><img src=\"https://colab.research.google.com/assets/colab-badge.svg\" alt=\"Open In Colab\"/></a>"
      ]
    },
    {
      "cell_type": "markdown",
      "source": [
        "Qué planeta tiene un diametro de aproximadamente 38% el de la tierra."
      ],
      "metadata": {
        "id": "SHTfpwf4Veea"
      }
    },
    {
      "cell_type": "code",
      "source": [
        "ssDiametro = {'Sun': 1392000,'Mercury' : 4879, 'Venus' : 12092, 'Earth' : 12756, 'Mars' : 6792,\n",
        "                    'Jupiter' : 142984 ,'Saturn': 120536, 'Uranus': 50724, 'Neptuno':49244,\n",
        "                    'Pluto': 2376.6}\n",
        "for x in ssDiametro:\n",
        "  r = ssDiametro[x]/ssDiametro['Earth']\n",
        "  print(f\"El planeta {x} tiene un diametro aproximadamente de {r*100}% el de la tierra.\")"
      ],
      "metadata": {
        "colab": {
          "base_uri": "https://localhost:8080/"
        },
        "id": "HwQswcVAWYZB",
        "outputId": "81a72c31-3e7d-4eb5-c168-b0d3f3263aee"
      },
      "execution_count": 35,
      "outputs": [
        {
          "output_type": "stream",
          "name": "stdout",
          "text": [
            "El planeta Sun tiene un diametro aproximadamente de 10912.511759172156% el de la tierra.\n",
            "El planeta Mercury tiene un diametro aproximadamente de 38.248667293822514% el de la tierra.\n",
            "El planeta Venus tiene un diametro aproximadamente de 94.79460645970524% el de la tierra.\n",
            "El planeta Earth tiene un diametro aproximadamente de 100.0% el de la tierra.\n",
            "El planeta Mars tiene un diametro aproximadamente de 53.24553151458138% el de la tierra.\n",
            "El planeta Jupiter tiene un diametro aproximadamente de 1120.9156475384132% el de la tierra.\n",
            "El planeta Saturn tiene un diametro aproximadamente de 944.9357165255567% el de la tierra.\n",
            "El planeta Uranus tiene un diametro aproximadamente de 397.64816556914394% el de la tierra.\n",
            "El planeta Neptuno tiene un diametro aproximadamente de 386.04578237692067% el de la tierra.\n",
            "El planeta Pluto tiene un diametro aproximadamente de 18.631232361241768% el de la tierra.\n"
          ]
        }
      ]
    },
    {
      "cell_type": "markdown",
      "source": [
        "Apartir de aquí es el material de apoyo con el que se contaba"
      ],
      "metadata": {
        "id": "RtXiS8e_ZivZ"
      }
    },
    {
      "cell_type": "code",
      "execution_count": 4,
      "metadata": {
        "colab": {
          "base_uri": "https://localhost:8080/"
        },
        "id": "WaBbulsNVQb2",
        "outputId": "32ba721f-d78e-47ce-cf6d-8df1d7254152"
      },
      "outputs": [
        {
          "output_type": "stream",
          "name": "stdout",
          "text": [
            "The Sun have a diameter of 1392000.\n",
            "The Mercury have a diameter of 4879.\n",
            "The Venus have a diameter of 12092.\n",
            "The Earth have a diameter of 12756.\n",
            "The Mars have a diameter of 6792.\n",
            "The Jupiter have a diameter of 142984.\n",
            "The Saturn have a diameter of 120536.\n",
            "The Uranus have a diameter of 50724.\n",
            "The Neptuno have a diameter of 49244.\n",
            "The Pluto have a diameter of 2376.6.\n",
            "\n",
            "The Earth have a diameter of 12756.\n",
            "The Jupiter have a diameter of 142984.\n",
            "The Mars have a diameter of 6792.\n",
            "The Mercury have a diameter of 4879.\n",
            "The Neptuno have a diameter of 49244.\n",
            "The Pluto have a diameter of 2376.6.\n",
            "The Saturn have a diameter of 120536.\n",
            "The Sun have a diameter of 1392000.\n",
            "The Uranus have a diameter of 50724.\n",
            "The Venus have a diameter of 12092.\n"
          ]
        }
      ],
      "source": [
        "ssDiametro = {'Sun': 1392000,'Mercury' : 4879, 'Venus' : 12092, 'Earth' : 12756, 'Mars' : 6792,\n",
        "                    'Jupiter' : 142984 ,'Saturn': 120536, 'Uranus': 50724, 'Neptuno':49244,\n",
        "                    'Pluto': 2376.6}\n",
        "for x in ssDiametro:\n",
        "  print(f'The {x} have a diameter of {ssDiametro[x]}.')\n",
        "print ()\n",
        "for x in sorted(ssDiametro):\n",
        "  print(f'The {x} have a diameter of {ssDiametro[x]}.')"
      ]
    },
    {
      "cell_type": "markdown",
      "source": [
        "En la parte de abajo esta la solución, tu debes implementar el código completo partiendo de que no lo sabes."
      ],
      "metadata": {
        "id": "RqTuFauYVhSi"
      }
    },
    {
      "cell_type": "code",
      "source": [
        "\n",
        "r = ssDiametro['Mercury']/ssDiametro['Earth']\n",
        "print(r)\n",
        "\n",
        "0.38248667293822514"
      ],
      "metadata": {
        "id": "QV_JRHm7X-8J"
      },
      "execution_count": null,
      "outputs": []
    },
    {
      "cell_type": "markdown",
      "source": [
        "Tarea"
      ],
      "metadata": {
        "id": "AMASt812X_-x"
      }
    }
  ]
}