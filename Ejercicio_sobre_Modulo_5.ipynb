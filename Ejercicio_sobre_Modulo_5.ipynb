{
  "nbformat": 4,
  "nbformat_minor": 0,
  "metadata": {
    "colab": {
      "provenance": []
    },
    "kernelspec": {
      "name": "python3",
      "display_name": "Python 3"
    },
    "language_info": {
      "name": "python"
    }
  },
  "cells": [
    {
      "cell_type": "code",
      "execution_count": 1,
      "metadata": {
        "colab": {
          "base_uri": "https://localhost:8080/"
        },
        "id": "4gPtF0CDAoKn",
        "outputId": "48026ab3-2fce-41c3-f7ad-4e99490e326f"
      },
      "outputs": [
        {
          "output_type": "stream",
          "name": "stdout",
          "text": [
            "Clase [0]= [-95, -90, -85, -80, -75, -70, -65, -60, -55, -50, -45, -40, -35, -30, -25, -20, -15, -10, -5, 0, 5, 10, 15, 20, 25, 30, 35, 40, 45, 50, 55, 60, 65, 70, 75, 80, 85, 90, 95]\n",
            "Clase [1]= [-96, -91, -86, -81, -76, -71, -66, -61, -56, -51, -46, -41, -36, -31, -26, -21, -16, -11, -6, -1, 1, 6, 11, 16, 21, 26, 31, 36, 41, 46, 51, 56, 61, 66, 71, 76, 81, 86, 91, 96]\n",
            "Clase [2]= [-97, -92, -87, -82, -77, -72, -67, -62, -57, -52, -47, -42, -37, -32, -27, -22, -17, -12, -7, -2, 2, 7, 12, 17, 22, 27, 32, 37, 42, 47, 52, 57, 62, 67, 72, 77, 82, 87, 92, 97]\n",
            "Clase [3]= [-98, -93, -88, -83, -78, -73, -68, -63, -58, -53, -48, -43, -38, -33, -28, -23, -18, -13, -8, -3, 3, 8, 13, 18, 23, 28, 33, 38, 43, 48, 53, 58, 63, 68, 73, 78, 83, 88, 93, 98]\n",
            "Clase [4]= [-99, -94, -89, -84, -79, -74, -69, -64, -59, -54, -49, -44, -39, -34, -29, -24, -19, -14, -9, -4, 4, 9, 14, 19, 24, 29, 34, 39, 44, 49, 54, 59, 64, 69, 74, 79, 84, 89, 94, 99]\n",
            "la intersección de los tres conjuntos es: set()\n",
            "la unión de los tres conjuntos es: {1, 6, 11, 16, 21, 26, 31, -96, 36, -91, 41, -86, 46, -81, 51, -76, 56, -71, 61, -66, 66, -61, 71, -56, 76, -51, 81, -46, 86, -41, 91, -36, 96, -31, -26, -21, -16, -11, -6, -1}\n"
          ]
        }
      ],
      "source": [
        "ClaseEquiv0 = set()\n",
        "ClaseEquiv1 = set()\n",
        "ClaseEquiv2 = set()\n",
        "ClaseEquiv3 = set()\n",
        "ClaseEquiv4 = set()\n",
        "\n",
        "for i in range(100):  #{0,1,2,3,...,98,99}\n",
        "  if i% 5== 0:\n",
        "    ClaseEquiv0.add(i)  # adicionale (.add) al conjunto de la clase de equivalencia\n",
        "    ClaseEquiv0.add(-i)\n",
        "  elif i % 5 == 1:   # elif, sino checha esto\n",
        "    ClaseEquiv1.add(i)\n",
        "    ClaseEquiv1.add(-i)\n",
        "  elif i % 5 == 2:   # elif, sino checha esto\n",
        "    ClaseEquiv2.add(i)\n",
        "    ClaseEquiv2.add(-i)\n",
        "  elif i % 5 == 3:   # elif, sino checha esto\n",
        "    ClaseEquiv3.add(i)\n",
        "    ClaseEquiv3.add(-i)\n",
        "  else:    # se ejecuta por defaul el else\n",
        "    ClaseEquiv4.add(i)\n",
        "    ClaseEquiv4.add(-i)\n",
        "print(\"Clase [0]=\", sorted(ClaseEquiv0))   # sorted es para ordenar\n",
        "print(\"Clase [1]=\", sorted(ClaseEquiv1))\n",
        "print(\"Clase [2]=\", sorted(ClaseEquiv2))\n",
        "print(\"Clase [3]=\", sorted(ClaseEquiv3))\n",
        "print(\"Clase [4]=\", sorted(ClaseEquiv4))\n",
        "\n",
        "print(\"la intersección de los tres conjuntos es:\" ,\n",
        "      ClaseEquiv1 & ClaseEquiv1 & ClaseEquiv2 & ClaseEquiv3 & ClaseEquiv4)\n",
        "\n",
        "print(\"la unión de los tres conjuntos es:\" ,\n",
        "      ClaseEquiv1 | ClaseEquiv1 or ClaseEquiv2 | ClaseEquiv3 or ClaseEquiv4) #Alt + 124 = | es lo mismo que or (unión)\n"
      ]
    }
  ]
}