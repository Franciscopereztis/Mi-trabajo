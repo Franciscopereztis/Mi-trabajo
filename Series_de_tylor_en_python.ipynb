{
  "nbformat": 4,
  "nbformat_minor": 0,
  "metadata": {
    "colab": {
      "provenance": [],
      "authorship_tag": "ABX9TyMw/nx2GibPmwUS0/2dWyGL"
    },
    "kernelspec": {
      "name": "python3",
      "display_name": "Python 3"
    },
    "language_info": {
      "name": "python"
    }
  },
  "cells": [
    {
      "cell_type": "markdown",
      "source": [
        "serie de taylor"
      ],
      "metadata": {
        "id": "wp9-ng5chQA4"
      }
    },
    {
      "cell_type": "code",
      "execution_count": 6,
      "metadata": {
        "colab": {
          "base_uri": "https://localhost:8080/"
        },
        "id": "V9c-3kgthPZr",
        "outputId": "120ef7e1-adee-4dc3-f9ab-effdbb20171b"
      },
      "outputs": [
        {
          "output_type": "stream",
          "name": "stdout",
          "text": [
            "1 - x**2/2 + x**4/24 - x**6/720 + x**8/40320 - x**10/3628800 + x**12/479001600 - x**14/87178291200 + x**16/20922789888000 - x**18/6402373705728000 + O(x**20)\n",
            "-x**18/6402373705728000 + x**16/20922789888000 - x**14/87178291200 + x**12/479001600 - x**10/3628800 + x**8/40320 - x**6/720 + x**4/24 - x**2/2 + 1\n"
          ]
        }
      ],
      "source": [
        "from sympy import symbols, cos #cuando se quiere manejar literacon como variables se llama a symbols\n",
        "\n",
        "x=symbols(\"x\")\n",
        "\n",
        "cosx = cos(x)\n",
        "\n",
        "print(cosx.series(x, n=20)) #el 20 es hasta donde quiere el residuo\n",
        "\n",
        "print(cosx.series(x, n=20).removeO()) #el removeo lo pone de mayor potencia al menor"
      ]
    },
    {
      "cell_type": "code",
      "source": [
        "from sympy import symbols, ln #cuando se quiere manejar literacon como variables se llama a symbols\n",
        "\n",
        "x=symbols(\"x\")\n",
        "\n",
        "lnx = ln(x)\n",
        "\n",
        "print(lnx.series(x, n=20, x0=1)) #el 20 es hasta donde quiere el residuo\n",
        "\n",
        "#print(lnx.series(x, n=20, x0=1).removeO()) #el removeo lo pone de mayor potencia al menor"
      ],
      "metadata": {
        "colab": {
          "base_uri": "https://localhost:8080/"
        },
        "id": "ZH_7dcWrini_",
        "outputId": "6fedabe4-6b1b-44eb-9c15-c063e841146e"
      },
      "execution_count": 8,
      "outputs": [
        {
          "output_type": "stream",
          "name": "stdout",
          "text": [
            "-1 - (x - 1)**2/2 + (x - 1)**3/3 - (x - 1)**4/4 + (x - 1)**5/5 - (x - 1)**6/6 + (x - 1)**7/7 - (x - 1)**8/8 + (x - 1)**9/9 - (x - 1)**10/10 + (x - 1)**11/11 - (x - 1)**12/12 + (x - 1)**13/13 - (x - 1)**14/14 + (x - 1)**15/15 - (x - 1)**16/16 + (x - 1)**17/17 - (x - 1)**18/18 + (x - 1)**19/19 + x + O((x - 1)**20, (x, 1))\n"
          ]
        }
      ]
    }
  ]
}