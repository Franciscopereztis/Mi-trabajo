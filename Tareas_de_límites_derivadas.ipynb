{
  "nbformat": 4,
  "nbformat_minor": 0,
  "metadata": {
    "colab": {
      "provenance": [],
      "authorship_tag": "ABX9TyOav8+vinmUNBd9+sV7b9I/",
      "include_colab_link": true
    },
    "kernelspec": {
      "name": "python3",
      "display_name": "Python 3"
    },
    "language_info": {
      "name": "python"
    }
  },
  "cells": [
    {
      "cell_type": "markdown",
      "metadata": {
        "id": "view-in-github",
        "colab_type": "text"
      },
      "source": [
        "<a href=\"https://colab.research.google.com/github/Franciscopereztis/Mi-trabajo/blob/main/Tareas_de_l%C3%ADmites_derivadas.ipynb\" target=\"_parent\"><img src=\"https://colab.research.google.com/assets/colab-badge.svg\" alt=\"Open In Colab\"/></a>"
      ]
    },
    {
      "cell_type": "markdown",
      "source": [
        "Tarea sobre límites"
      ],
      "metadata": {
        "id": "OjuovN4y6XKm"
      }
    },
    {
      "cell_type": "code",
      "execution_count": 2,
      "metadata": {
        "colab": {
          "base_uri": "https://localhost:8080/"
        },
        "id": "b7k61wEH4SdB",
        "outputId": "616bc2c4-1d15-4a4a-ab75-86589a593afc"
      },
      "outputs": [
        {
          "output_type": "stream",
          "name": "stdout",
          "text": [
            "El límite es:  -96/5\n",
            "El límite evaluado es:  -19.2000000000000\n"
          ]
        }
      ],
      "source": [
        "from sympy import symbols, limit, sin, sqrt\n",
        "x  = symbols('x')\n",
        "limf = limit((x**2-4)/((sqrt(x+7))-3*sqrt(x+2)/2), x, 2)\n",
        "print(\"El límite es: \", limf)\n",
        "print(\"El límite evaluado es: \", limf.evalf())\n",
        ""
      ]
    },
    {
      "cell_type": "markdown",
      "source": [
        "Tarea sobre derivadas"
      ],
      "metadata": {
        "id": "swavCbtr6VC9"
      }
    },
    {
      "cell_type": "code",
      "source": [
        "from sympy import symbols, diff, sin, exp, ln, tan\n",
        "\n",
        "x  = symbols('x')\n",
        "fx = tan(exp(2*sin(x))/4*x)**(sqrt(x))\n",
        "dx = diff(fx, x)\n",
        "print(\"La derivada es: \\n {0}  \\n= {1} \".format(dx, dx.simplify()))\n",
        "#Evaluando en el puntos críticos\n",
        "#print(puntoEvaluacion = 0dxEval = dx.subs(x, puntoEvaluacion).evalf()\n",
        "#print(\"La derivada evaluada en x = {0} es: {1}\".format(puntoEvaluacion, dxEval))\n",
        "puntoEvaluacion = 1.08967\n",
        "dxEval = dx.subs(x, puntoEvaluacion).evalf()\n",
        "#print(\"La derivada evaluada en x = {0} es: {1}\".format(puntoEvaluacion, dxEval))"
      ],
      "metadata": {
        "colab": {
          "base_uri": "https://localhost:8080/"
        },
        "id": "Zp-3iGTU6nBN",
        "outputId": "6a3a1b46-d22f-464f-99e2-94e944a9f318"
      },
      "execution_count": 14,
      "outputs": [
        {
          "output_type": "stream",
          "name": "stdout",
          "text": [
            "La derivada es: \n",
            " (sqrt(x)*(x*exp(2*sin(x))*cos(x)/2 + exp(2*sin(x))/4)*(tan(x*exp(2*sin(x))/4)**2 + 1)/tan(x*exp(2*sin(x))/4) + log(tan(x*exp(2*sin(x))/4))/(2*sqrt(x)))*tan(x*exp(2*sin(x))/4)**(sqrt(x))  \n",
            "= (x*(2*x*cos(x) + 1)*exp(2*sin(x))/cos(x*exp(2*sin(x))/4)**2 + 2*log(tan(x*exp(2*sin(x))/4))*tan(x*exp(2*sin(x))/4))*tan(x*exp(2*sin(x))/4)**(sqrt(x) - 1)/(4*sqrt(x)) \n"
          ]
        }
      ]
    }
  ]
}