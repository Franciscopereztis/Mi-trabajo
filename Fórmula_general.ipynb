{
  "nbformat": 4,
  "nbformat_minor": 0,
  "metadata": {
    "colab": {
      "provenance": [],
      "authorship_tag": "ABX9TyMOacN/rbh/VUs41kijvepi",
      "include_colab_link": true
    },
    "kernelspec": {
      "name": "python3",
      "display_name": "Python 3"
    },
    "language_info": {
      "name": "python"
    }
  },
  "cells": [
    {
      "cell_type": "markdown",
      "metadata": {
        "id": "view-in-github",
        "colab_type": "text"
      },
      "source": [
        "<a href=\"https://colab.research.google.com/github/Franciscopereztis/Mi-trabajo/blob/main/F%C3%B3rmula_general.ipynb\" target=\"_parent\"><img src=\"https://colab.research.google.com/assets/colab-badge.svg\" alt=\"Open In Colab\"/></a>"
      ]
    },
    {
      "cell_type": "code",
      "execution_count": 8,
      "metadata": {
        "colab": {
          "base_uri": "https://localhost:8080/"
        },
        "id": "7yOy-cBI2OJf",
        "outputId": "c3d2d120-bca8-4bd3-80e2-3e42560b9d09"
      },
      "outputs": [
        {
          "output_type": "stream",
          "name": "stdout",
          "text": [
            "Ingrese el valor de a: 8\n",
            "Ingrese el valor de b: 15\n",
            "Ingrese el valor de c: 3\n",
            "Las soluciones son: -0.2276364567749658 y -1.6473635432250342\n"
          ]
        }
      ],
      "source": [
        "import math\n",
        "import cmath # importa las raices complejas\n",
        "\n",
        "a=int(input(\"Ingrese el valor de a: \"))\n",
        "b=int(input(\"Ingrese el valor de b: \"))\n",
        "c=int(input(\"Ingrese el valor de c: \"))\n",
        "\n",
        "discriminante =b**2-4*a*c\n",
        "\n",
        "if discriminante >=0:\n",
        "    x1=(-b + math.sqrt(discriminante)) / (2*a)\n",
        "    x2=(-b - math.sqrt(discriminante)) / (2*a)\n",
        "    print(\"Las soluciones son:\", x1, \"y\", x2)\n",
        "else:\n",
        "    print(\"No tiene solución real\")\n"
      ]
    }
  ]
}