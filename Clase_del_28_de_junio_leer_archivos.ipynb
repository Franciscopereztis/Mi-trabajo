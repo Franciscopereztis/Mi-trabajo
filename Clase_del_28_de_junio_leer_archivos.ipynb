{
  "nbformat": 4,
  "nbformat_minor": 0,
  "metadata": {
    "colab": {
      "provenance": [],
      "authorship_tag": "ABX9TyOOgcyYiySDeTmRjhm2F+q9",
      "include_colab_link": true
    },
    "kernelspec": {
      "name": "python3",
      "display_name": "Python 3"
    },
    "language_info": {
      "name": "python"
    }
  },
  "cells": [
    {
      "cell_type": "markdown",
      "metadata": {
        "id": "view-in-github",
        "colab_type": "text"
      },
      "source": [
        "<a href=\"https://colab.research.google.com/github/Franciscopereztis/Mi-trabajo/blob/main/Clase_del_28_de_junio_leer_archivos.ipynb\" target=\"_parent\"><img src=\"https://colab.research.google.com/assets/colab-badge.svg\" alt=\"Open In Colab\"/></a>"
      ]
    },
    {
      "cell_type": "markdown",
      "source": [
        "Leer archivos en GoogleColab"
      ],
      "metadata": {
        "id": "x6jqPg46rLD0"
      }
    },
    {
      "cell_type": "code",
      "execution_count": 8,
      "metadata": {
        "id": "PMGHynp1k_53"
      },
      "outputs": [],
      "source": [
        "\n",
        "\n",
        "from google.colab import drive\n",
        "from pydrive.auth import GoogleAuth\n",
        "from pydrive.drive import GoogleDrive\n",
        "from google.colab import auth\n",
        "from oauth2client.client import GoogleCredentials\n",
        "\n",
        "auth.authenticate_user()\n",
        "gauth = GoogleAuth()\n",
        "gauth.credentials = GoogleCredentials.get_application_default()\n",
        "drive = GoogleDrive(gauth)\n",
        "\n",
        "#El ID es el número que aparece al compartir el archivco que se debe de encontrar en el drive de colab.google\n",
        "# El link https://drive.google.com/file/d/1zwRc4niDu6caiOOvy-iq4OIXQ_RSTrvp/view?usp=sharing\n",
        "myfile = drive.CreateFile({\"id\":\"1zwRc4niDu6caiOOvy-iq4OIXQ_RSTrvp\"}) # es el número que comparte el archivo que viene en el link\n",
        "myfile.GetContentFile(\"datos1.txt\")"
      ]
    },
    {
      "cell_type": "code",
      "source": [
        "#Ya con lo de arriba se puede enlasar (dar acceso) y leer el archivo\n",
        "import pandas as pd\n",
        "frm  = pd.read_csv(\"datos1.txt\",header=None)#si no tiene encabezs hay que indiarle que no tiene haeder=None\n",
        "print(frm.head())\n",
        "print(frm.tail())\n",
        "print(\"Que columnas tengo \\n\", frm.columns)\n",
        "print(frm[0].describe())\n",
        "#Dataframe ya trae muchas herramientas para qpoder calcular mucha cosas de estadistica\n"
      ],
      "metadata": {
        "colab": {
          "base_uri": "https://localhost:8080/"
        },
        "id": "HFOkNOZU26jE",
        "outputId": "e23f9c5a-3ffc-4777-a0af-74a253b40704"
      },
      "execution_count": 14,
      "outputs": [
        {
          "output_type": "stream",
          "name": "stdout",
          "text": [
            "    0    1     2\n",
            "0   1  1.3   0.6\n",
            "1   2  2.1   0.7\n",
            "2   3  4.8   0.8\n",
            "3   4  3.3   0.9\n",
            "4  56  3.3  21.0\n",
            "     0      1      2\n",
            "2    3    4.8    0.8\n",
            "3    4    3.3    0.9\n",
            "4   56    3.3   21.0\n",
            "5  333  555.0  666.0\n",
            "6   54   67.0   78.0\n",
            "Que columnas tengo \n",
            " Index([0, 1, 2], dtype='int64')\n",
            "count      7.000000\n",
            "mean      64.714286\n",
            "std      120.868681\n",
            "min        1.000000\n",
            "25%        2.500000\n",
            "50%        4.000000\n",
            "75%       55.000000\n",
            "max      333.000000\n",
            "Name: 0, dtype: float64\n"
          ]
        }
      ]
    },
    {
      "cell_type": "code",
      "source": [
        "import numpy as np\n",
        "\n",
        "datosF = np.loadtxt(\"datos1.txt\", delimiter=\", \")\n",
        "print(datosF)\n",
        "print(datosF[:,0])#Saca la columna il indicé comiensa en cero porque asi toma al primero\n",
        "c1 = datosF[:,0]\n",
        "#si quisiera renglones\n",
        "#print(datosF[2])\n",
        "\n",
        "c1.sort() #es para ordenar\n",
        "print(c1)\n",
        "\n",
        "\n",
        "pos = len(c1)//2\n",
        "\n",
        "if len(c1)%2 == 0:\n",
        "  mediana = (c1[pos-1]+c1[pos])/2\n",
        "else:\n",
        "  mediana = c1[pos]\n",
        "print(\"La mediana es: \", mediana)"
      ],
      "metadata": {
        "colab": {
          "base_uri": "https://localhost:8080/",
          "height": 211
        },
        "id": "NaPUUE6Y8AuA",
        "outputId": "b472cb22-75af-4441-c872-365c8d862d10"
      },
      "execution_count": 21,
      "outputs": [
        {
          "output_type": "error",
          "ename": "NameError",
          "evalue": "name 'datos1' is not defined",
          "traceback": [
            "\u001b[0;31m---------------------------------------------------------------------------\u001b[0m",
            "\u001b[0;31mNameError\u001b[0m                                 Traceback (most recent call last)",
            "\u001b[0;32m<ipython-input-21-875dbec415e3>\u001b[0m in \u001b[0;36m<cell line: 4>\u001b[0;34m()\u001b[0m\n\u001b[1;32m      2\u001b[0m \u001b[0;34m\u001b[0m\u001b[0m\n\u001b[1;32m      3\u001b[0m \u001b[0;34m\u001b[0m\u001b[0m\n\u001b[0;32m----> 4\u001b[0;31m \u001b[0mprint\u001b[0m\u001b[0;34m(\u001b[0m\u001b[0mdatos1\u001b[0m\u001b[0;34m)\u001b[0m\u001b[0;34m\u001b[0m\u001b[0;34m\u001b[0m\u001b[0m\n\u001b[0m\u001b[1;32m      5\u001b[0m \u001b[0mprint\u001b[0m\u001b[0;34m(\u001b[0m\u001b[0mdatos1\u001b[0m\u001b[0;34m[\u001b[0m\u001b[0;34m:\u001b[0m\u001b[0;34m,\u001b[0m\u001b[0;36m0\u001b[0m\u001b[0;34m]\u001b[0m\u001b[0;34m)\u001b[0m\u001b[0;34m\u001b[0m\u001b[0;34m\u001b[0m\u001b[0m\n\u001b[1;32m      6\u001b[0m \u001b[0;34m\u001b[0m\u001b[0m\n",
            "\u001b[0;31mNameError\u001b[0m: name 'datos1' is not defined"
          ]
        }
      ]
    },
    {
      "cell_type": "code",
      "source": [],
      "metadata": {
        "id": "jUCYpQoa32yx"
      },
      "execution_count": null,
      "outputs": []
    },
    {
      "cell_type": "markdown",
      "source": [
        "en anaconda pero trae muchos errores"
      ],
      "metadata": {
        "id": "3bR11m0i2qv4"
      }
    },
    {
      "cell_type": "code",
      "source": [
        "#En anaconde\n",
        "import os  #indico otro dicrectorio en donde se encuentra el documento\n",
        "import pandas as pd\n",
        "import numpy as np\n",
        "\n",
        "#os.chdir(r\"c:\\\\user\\robertoYandexDik) si no se indica la rut, el archivo de python y el de lectura deben de estar en el mismo documento\n",
        "os.chdir(r\"r\"c:\\\\user\\robertoYandexDik\")\n",
        "\n",
        "#verify  the path using getcwd\n",
        "cwd = os.getcwd()\n",
        "\n",
        "#print the current directory\n",
        "print(\"Current working directory is:\", cwd)\n",
        "#Pandas regresa un dataframe\n",
        "# En este casp interpretara la primera columna como encabezado\n",
        "in_file = \"datos5.txt\"#esto y lo de abajo es para leer el archi\n",
        "df = pd.read_csv(in_file)\n",
        "\n",
        "print(df.dtypes)\n",
        "\n",
        "print(\"ultimos valores\", df.tail)\n",
        "\n",
        "print(df.dtypes)\n",
        "\n",
        "print(dt.tail())\n",
        "\n",
        "print(columns)\n",
        "\n",
        "print(pd.unique(df[\"peso\"]))\n",
        "\n",
        "print(df[\" Peso\"].describe())# en el peso hay que dejar un espacio\n",
        "\n",
        "df[\" Peso\"].min()\n",
        "df[\" Peso\"].max()\n",
        "df[\" Peso\"].mean()\n",
        "df[\" Peso\"].std()\n",
        "df[\" Peso\"].count()"
      ],
      "metadata": {
        "id": "RSSvZnrbsOMc"
      },
      "execution_count": null,
      "outputs": []
    }
  ]
}